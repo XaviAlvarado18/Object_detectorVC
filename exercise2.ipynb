{
 "cells": [
  {
   "cell_type": "markdown",
   "metadata": {},
   "source": [
    "# Proyecto 1 - Visión por Computadora\n",
    "## Ejercicio 2\n",
    "## Integrantes:\n",
    "\n",
    "- Javier Alvarado - 21188\n",
    "- Mario Guerra - 21008\n",
    "- Emilio Solano - 21212"
   ]
  },
  {
   "cell_type": "code",
   "execution_count": 3,
   "metadata": {},
   "outputs": [],
   "source": [
    "import cv2\n",
    "import mediapipe as mp\n",
    "import numpy as np\n",
    "\n",
    "# Inicializar MediaPipe Pose\n",
    "mp_pose = mp.solutions.pose\n",
    "pose = mp_pose.Pose()\n",
    "mp_drawing = mp.solutions.drawing_utils\n",
    "\n",
    "# Ruta del video\n",
    "input_path = \"assets/danceVideo.mp4\"\n",
    "cap = cv2.VideoCapture(input_path)\n",
    "\n",
    "# Obtener dimensiones del video\n",
    "width = int(cap.get(cv2.CAP_PROP_FRAME_WIDTH))\n",
    "height = int(cap.get(cv2.CAP_PROP_FRAME_HEIGHT))\n",
    "fps = int(cap.get(cv2.CAP_PROP_FPS))\n"
   ]
  },
  {
   "cell_type": "code",
   "execution_count": 4,
   "metadata": {},
   "outputs": [],
   "source": [
    "# Inicializar escritores de video\n",
    "fourcc = cv2.VideoWriter_fourcc(*'mp4v')\n",
    "output_pose_video = cv2.VideoWriter(\"assets/silhouette_dance_video.mp4\", fourcc, fps, (width, height))\n",
    "output_skeleton_video = cv2.VideoWriter(\"assets/silhouette_dance_black.mp4\", fourcc, fps, (width, height))\n",
    "\n",
    "while cap.isOpened():\n",
    "    ret, frame = cap.read()\n",
    "    if not ret:\n",
    "        break\n",
    "\n",
    "    # Convertir el frame a RGB\n",
    "    image_rgb = cv2.cvtColor(frame, cv2.COLOR_BGR2RGB)\n",
    "    results = pose.process(image_rgb)\n",
    "\n",
    "    # Copiar los frames\n",
    "    annotated_frame = frame.copy()\n",
    "    black_frame = np.zeros_like(frame)\n",
    "\n",
    "    # Dibujar la pose en ambos frames\n",
    "    if results.pose_landmarks:\n",
    "        mp_drawing.draw_landmarks(\n",
    "            annotated_frame,\n",
    "            results.pose_landmarks,\n",
    "            mp_pose.POSE_CONNECTIONS)\n",
    "\n",
    "        mp_drawing.draw_landmarks(\n",
    "            black_frame,\n",
    "            results.pose_landmarks,\n",
    "            mp_pose.POSE_CONNECTIONS)\n",
    "\n",
    "    # Escribir los frames procesados\n",
    "    output_pose_video.write(annotated_frame)\n",
    "    output_skeleton_video.write(black_frame)\n",
    "\n",
    "# Liberar recursos\n",
    "cap.release()\n",
    "output_pose_video.release()\n",
    "output_skeleton_video.release()\n",
    "pose.close()\n",
    "cv2.destroyAllWindows()\n",
    "\n"
   ]
  }
 ],
 "metadata": {
  "kernelspec": {
   "display_name": "env",
   "language": "python",
   "name": "python3"
  },
  "language_info": {
   "codemirror_mode": {
    "name": "ipython",
    "version": 3
   },
   "file_extension": ".py",
   "mimetype": "text/x-python",
   "name": "python",
   "nbconvert_exporter": "python",
   "pygments_lexer": "ipython3",
   "version": "3.11.0"
  }
 },
 "nbformat": 4,
 "nbformat_minor": 2
}
