{
 "cells": [
  {
   "cell_type": "markdown",
   "metadata": {},
   "source": [
    "# Proyecto 1 - Visión por Computadora\n",
    "## Ejercicio 1\n",
    "## Integrantes:\n",
    "\n",
    "- Javier Alvarado - 21188\n",
    "- Mario Guerra - 21008\n",
    "- Emilio Solano - 21212"
   ]
  }
 ],
 "metadata": {
  "language_info": {
   "name": "python"
  }
 },
 "nbformat": 4,
 "nbformat_minor": 2
}
